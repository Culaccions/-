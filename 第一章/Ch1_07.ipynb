{
 "cells": [
  {
   "cell_type": "code",
   "execution_count": 9,
   "id": "a73c8fe7-7e68-4a33-b1e5-2a180987b2b9",
   "metadata": {},
   "outputs": [],
   "source": [
    "list1=[1, 2, 3]\n",
    "list2=[4, 5, 6]"
   ]
  },
  {
   "cell_type": "code",
   "execution_count": 10,
   "id": "2b0a8ad8-c3c5-40db-b3a5-e3bdf39e0cce",
   "metadata": {},
   "outputs": [
    {
     "name": "stdout",
     "output_type": "stream",
     "text": [
      "[5, 7, 9]\n"
     ]
    }
   ],
   "source": [
    "print([x + y for x, y in zip(list1, list2)])"
   ]
  },
  {
   "cell_type": "code",
   "execution_count": 11,
   "id": "bae139fc-72dd-4d8e-9c07-130922f54149",
   "metadata": {},
   "outputs": [
    {
     "name": "stdout",
     "output_type": "stream",
     "text": [
      "[5, 7, 9]\n"
     ]
    }
   ],
   "source": [
    "print(list(map(lambda x,y:x+y, list1, list2)))\n"
   ]
  },
  {
   "cell_type": "code",
   "execution_count": 12,
   "id": "3fa163fc-1104-4393-936d-f48ed7254f63",
   "metadata": {},
   "outputs": [
    {
     "name": "stdout",
     "output_type": "stream",
     "text": [
      "[5 7 9]\n",
      "[5 7 9]\n"
     ]
    }
   ],
   "source": [
    "\n",
    "import numpy as np\n",
    "\n",
    "x = np.array(list1)\n",
    "y = np.array(list2)\n",
    "print(x+y)\n",
    "\n",
    "print(np.add(list1,list2))"
   ]
  },
  {
   "cell_type": "code",
   "execution_count": null,
   "id": "f22c1858-9283-470f-aaff-b3b11be824b3",
   "metadata": {},
   "outputs": [],
   "source": []
  }
 ],
 "metadata": {
  "kernelspec": {
   "display_name": "Python 3 (ipykernel)",
   "language": "python",
   "name": "python3"
  },
  "language_info": {
   "codemirror_mode": {
    "name": "ipython",
    "version": 3
   },
   "file_extension": ".py",
   "mimetype": "text/x-python",
   "name": "python",
   "nbconvert_exporter": "python",
   "pygments_lexer": "ipython3",
   "version": "3.9.16"
  }
 },
 "nbformat": 4,
 "nbformat_minor": 5
}
