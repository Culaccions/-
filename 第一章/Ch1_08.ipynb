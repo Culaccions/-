{
 "cells": [
  {
   "cell_type": "code",
   "execution_count": 14,
   "id": "1ac772e9-b279-437b-b3e5-6ffe9e046806",
   "metadata": {},
   "outputs": [
    {
     "name": "stdout",
     "output_type": "stream",
     "text": [
      "[[2, 2, 3], [4, 6, 6]]\n",
      "运行时间： 0.0002391000000443455 秒\n",
      "运行时间： 0.2391000000443455 毫秒\n"
     ]
    }
   ],
   "source": [
    "import time\n",
    "start = time.perf_counter() \n",
    "A = [[1, 2, 3],\n",
    "     [4, 5, 6]]\n",
    "\n",
    "B = [[1, 0, 0],\n",
    "     [0, 1, 0]]\n",
    "\n",
    "A_plus_B = [[A[i][j] + B[i][j]  \n",
    "            for j in range(len(A[0]))] \n",
    "            for i in range(len(A))]\n",
    "\n",
    "print(A_plus_B)\n",
    "# 获取结束时间\n",
    "end = time.perf_counter() \n",
    "# 计算运行时间\n",
    "runTime = end - start\n",
    "runTime_ms = runTime * 1000\n",
    "# 输出运行时间\n",
    "print(\"运行时间：\", runTime, \"秒\")\n",
    "print(\"运行时间：\", runTime_ms, \"毫秒\")"
   ]
  },
  {
   "cell_type": "code",
   "execution_count": 15,
   "id": "c9f6cd07-c877-464d-9831-ffc8460b5742",
   "metadata": {},
   "outputs": [
    {
     "name": "stdout",
     "output_type": "stream",
     "text": [
      "[[2 2 3]\n",
      " [4 6 6]]\n",
      "[[2 2 3]\n",
      " [4 6 6]]\n",
      "运行时间： 0.0010132999999541425 秒\n",
      "运行时间： 1.0132999999541425 毫秒\n"
     ]
    }
   ],
   "source": [
    "import numpy as np\n",
    "\n",
    "start = time.perf_counter() \n",
    "A = [[1, 2, 3],\n",
    "     [4, 5, 6]]\n",
    "\n",
    "B = [[1, 0, 0],\n",
    "     [0, 1, 0]]\n",
    "\n",
    "print(np.array(A) + np.array(B))\n",
    "\n",
    "print(np.add(A, B))\n",
    "# 获取结束时间\n",
    "end = time.perf_counter() \n",
    "# 计算运行时间\n",
    "runTime = end - start\n",
    "runTime_ms = runTime * 1000\n",
    "# 输出运行时间\n",
    "print(\"运行时间：\", runTime, \"秒\")\n",
    "print(\"运行时间：\", runTime_ms, \"毫秒\")"
   ]
  },
  {
   "cell_type": "code",
   "execution_count": null,
   "id": "c7834f2a-2e4f-453c-af61-af52ec448ec7",
   "metadata": {},
   "outputs": [],
   "source": []
  }
 ],
 "metadata": {
  "kernelspec": {
   "display_name": "Python 3 (ipykernel)",
   "language": "python",
   "name": "python3"
  },
  "language_info": {
   "codemirror_mode": {
    "name": "ipython",
    "version": 3
   },
   "file_extension": ".py",
   "mimetype": "text/x-python",
   "name": "python",
   "nbconvert_exporter": "python",
   "pygments_lexer": "ipython3",
   "version": "3.9.16"
  }
 },
 "nbformat": 4,
 "nbformat_minor": 5
}
