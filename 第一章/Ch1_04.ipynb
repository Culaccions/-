{
 "cells": [
  {
   "cell_type": "markdown",
   "id": "76a22c5d-65b1-4789-b1a6-808c2ef2d143",
   "metadata": {},
   "source": [
    "导入numpy包"
   ]
  },
  {
   "cell_type": "code",
   "execution_count": 2,
   "id": "597382bf-8cb7-4409-a568-3f176b0df7a9",
   "metadata": {},
   "outputs": [],
   "source": [
    "import numpy as np"
   ]
  },
  {
   "cell_type": "markdown",
   "id": "7080926f-7285-476c-aea6-0ba8d1d680eb",
   "metadata": {},
   "source": [
    "用linspace()获取1~10中每个整数"
   ]
  },
  {
   "cell_type": "code",
   "execution_count": 11,
   "id": "5842b958-b9bf-48c2-87b4-733abb069813",
   "metadata": {},
   "outputs": [],
   "source": [
    "a_i = np.linspace(1,10,10)"
   ]
  },
  {
   "cell_type": "markdown",
   "id": "28443dc7-055c-431c-b216-8f4e60b804f4",
   "metadata": {},
   "source": [
    "输出"
   ]
  },
  {
   "cell_type": "code",
   "execution_count": 12,
   "id": "8e5b51f0-d841-4303-b06b-f207598a8da3",
   "metadata": {},
   "outputs": [
    {
     "name": "stdout",
     "output_type": "stream",
     "text": [
      "[ 1.  2.  3.  4.  5.  6.  7.  8.  9. 10.]\n"
     ]
    }
   ],
   "source": [
    "print(a_i)"
   ]
  },
  {
   "cell_type": "markdown",
   "id": "216b8b19-455d-4614-8ae2-220d5d74e8c4",
   "metadata": {},
   "source": [
    "对获取的数用cumsum()函数进行求和"
   ]
  },
  {
   "cell_type": "code",
   "execution_count": 5,
   "id": "8a707775-a2c4-4223-836d-475223f16743",
   "metadata": {},
   "outputs": [],
   "source": [
    "a_i_cumsum = np.cumsum(a_i)"
   ]
  },
  {
   "cell_type": "markdown",
   "id": "f0e81c9f-dd74-423a-8191-ce11c315212e",
   "metadata": {},
   "source": [
    "打印"
   ]
  },
  {
   "cell_type": "code",
   "execution_count": 6,
   "id": "347300da-15d1-4d51-be75-43c7401dcc98",
   "metadata": {},
   "outputs": [
    {
     "name": "stdout",
     "output_type": "stream",
     "text": [
      "[ 1.  3.  6. 10. 15. 21. 28. 36. 45. 55.]\n"
     ]
    }
   ],
   "source": [
    "print(a_i_cumsum)"
   ]
  }
 ],
 "metadata": {
  "kernelspec": {
   "display_name": "Python 3 (ipykernel)",
   "language": "python",
   "name": "python3"
  },
  "language_info": {
   "codemirror_mode": {
    "name": "ipython",
    "version": 3
   },
   "file_extension": ".py",
   "mimetype": "text/x-python",
   "name": "python",
   "nbconvert_exporter": "python",
   "pygments_lexer": "ipython3",
   "version": "3.9.16"
  }
 },
 "nbformat": 4,
 "nbformat_minor": 5
}
