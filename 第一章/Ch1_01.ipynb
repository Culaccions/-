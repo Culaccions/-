{
 "cells": [
  {
   "cell_type": "code",
   "execution_count": 1,
   "id": "9562cbf2-4abe-4041-a2f6-9ea00ff66495",
   "metadata": {},
   "outputs": [],
   "source": [
    "import math"
   ]
  },
  {
   "cell_type": "code",
   "execution_count": 2,
   "id": "9fd8dc1b-6951-4870-b059-ec529aa28a28",
   "metadata": {},
   "outputs": [
    {
     "name": "stdout",
     "output_type": "stream",
     "text": [
      "pi =  3.141592653589793\n"
     ]
    }
   ],
   "source": [
    "print(\"pi = \",math.pi)"
   ]
  },
  {
   "cell_type": "code",
   "execution_count": 3,
   "id": "483958d4-495b-4e41-a88c-4378a1fd9903",
   "metadata": {},
   "outputs": [
    {
     "name": "stdout",
     "output_type": "stream",
     "text": [
      "e =  2.718281828459045\n"
     ]
    }
   ],
   "source": [
    "print(\"e = \",math.e)"
   ]
  },
  {
   "cell_type": "code",
   "execution_count": 4,
   "id": "66f798fb-70f0-4c09-95d5-974c26cdad2e",
   "metadata": {},
   "outputs": [
    {
     "name": "stdout",
     "output_type": "stream",
     "text": [
      "sqrt(2) =  1.4142135623730951\n"
     ]
    }
   ],
   "source": [
    "print(\"sqrt(2) = \",math.sqrt(2))"
   ]
  },
  {
   "cell_type": "code",
   "execution_count": null,
   "id": "e8b93782-33fc-4f5a-8474-b5a472a1147f",
   "metadata": {},
   "outputs": [],
   "source": []
  }
 ],
 "metadata": {
  "kernelspec": {
   "display_name": "Python 3 (ipykernel)",
   "language": "python",
   "name": "python3"
  },
  "language_info": {
   "codemirror_mode": {
    "name": "ipython",
    "version": 3
   },
   "file_extension": ".py",
   "mimetype": "text/x-python",
   "name": "python",
   "nbconvert_exporter": "python",
   "pygments_lexer": "ipython3",
   "version": "3.9.16"
  }
 },
 "nbformat": 4,
 "nbformat_minor": 5
}
