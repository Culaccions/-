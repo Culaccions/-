{
 "cells": [
  {
   "cell_type": "markdown",
   "id": "43ea1310-f492-4abd-b6bd-770c30ee22f1",
   "metadata": {},
   "source": [
    "判断一个数是否为整数，如果是，再判断其是奇数还是偶数，用is_integer()函数进行判断"
   ]
  },
  {
   "cell_type": "code",
   "execution_count": 3,
   "id": "f175640c-1681-4365-abec-f870ba594306",
   "metadata": {},
   "outputs": [
    {
     "name": "stdin",
     "output_type": "stream",
     "text": [
      "Enter a number:  4\n"
     ]
    },
    {
     "name": "stdout",
     "output_type": "stream",
     "text": [
      "4 is even \n"
     ]
    }
   ],
   "source": [
    "num = float(input(\"Enter a number: \"))\n",
    "\n",
    "if num.is_integer():\n",
    "\n",
    "    if (num % 2) == 0:\n",
    "       print(f\"{int(num)} is even \")\n",
    "    else:\n",
    "       print(f\"{int(num)} is odd \")\n",
    "\n",
    "else:\n",
    "    print(f\"{num} is not an integer \")"
   ]
  },
  {
   "cell_type": "code",
   "execution_count": null,
   "id": "1ca22ca5-dcc4-4af1-a3a2-0b0357c51d12",
   "metadata": {},
   "outputs": [],
   "source": []
  }
 ],
 "metadata": {
  "kernelspec": {
   "display_name": "Python 3 (ipykernel)",
   "language": "python",
   "name": "python3"
  },
  "language_info": {
   "codemirror_mode": {
    "name": "ipython",
    "version": 3
   },
   "file_extension": ".py",
   "mimetype": "text/x-python",
   "name": "python",
   "nbconvert_exporter": "python",
   "pygments_lexer": "ipython3",
   "version": "3.9.16"
  }
 },
 "nbformat": 4,
 "nbformat_minor": 5
}
